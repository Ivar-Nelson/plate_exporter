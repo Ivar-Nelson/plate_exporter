{
 "cells": [
  {
   "cell_type": "code",
   "execution_count": 2,
   "id": "67912535",
   "metadata": {},
   "outputs": [
    {
     "name": "stdout",
     "output_type": "stream",
     "text": [
      "pip 23.1.2 from /opt/homebrew/lib/python3.11/site-packages/pip (python 3.11)\r\n"
     ]
    }
   ],
   "source": [
    "!pip --version\n"
   ]
  },
  {
   "cell_type": "code",
   "execution_count": 3,
   "id": "b19ab888",
   "metadata": {},
   "outputs": [
    {
     "name": "stdout",
     "output_type": "stream",
     "text": [
      "Package            Version  Location                                   Installer\r\n",
      "------------------ -------- ------------------------------------------ ---------\r\n",
      "appnope            0.1.3    /opt/homebrew/lib/python3.11/site-packages pip\r\n",
      "asttokens          2.2.1    /opt/homebrew/lib/python3.11/site-packages pip\r\n",
      "astunparse         1.6.3    /opt/homebrew/lib/python3.11/site-packages pip\r\n",
      "backcall           0.2.0    /opt/homebrew/lib/python3.11/site-packages pip\r\n",
      "certifi            2023.5.7 /opt/homebrew/lib/python3.11/site-packages pip\r\n",
      "chardet            5.1.0    /opt/homebrew/lib/python3.11/site-packages pip\r\n",
      "charset-normalizer 3.1.0    /opt/homebrew/lib/python3.11/site-packages pip\r\n",
      "comm               0.1.3    /opt/homebrew/lib/python3.11/site-packages pip\r\n",
      "coverage           7.2.3    /opt/homebrew/lib/python3.11/site-packages pip\r\n",
      "debugpy            1.6.7    /opt/homebrew/lib/python3.11/site-packages pip\r\n",
      "decorator          5.1.1    /opt/homebrew/lib/python3.11/site-packages pip\r\n",
      "executing          1.2.0    /opt/homebrew/lib/python3.11/site-packages pip\r\n",
      "idna               3.4      /opt/homebrew/lib/python3.11/site-packages pip\r\n",
      "iniconfig          2.0.0    /opt/homebrew/lib/python3.11/site-packages pip\r\n",
      "ipykernel          6.23.3   /opt/homebrew/lib/python3.11/site-packages pip\r\n",
      "ipython            8.14.0   /opt/homebrew/lib/python3.11/site-packages pip\r\n",
      "jedi               0.18.2   /opt/homebrew/lib/python3.11/site-packages pip\r\n",
      "jupyter_client     8.3.0    /opt/homebrew/lib/python3.11/site-packages pip\r\n",
      "jupyter_core       5.3.1    /opt/homebrew/lib/python3.11/site-packages pip\r\n",
      "matplotlib-inline  0.1.6    /opt/homebrew/lib/python3.11/site-packages pip\r\n",
      "msgspec            0.14.2   /opt/homebrew/lib/python3.11/site-packages pip\r\n",
      "nest-asyncio       1.5.6    /opt/homebrew/lib/python3.11/site-packages pip\r\n",
      "numpy              1.24.3   /opt/homebrew/lib/python3.11/site-packages pip\r\n",
      "orjson             3.8.11   /opt/homebrew/lib/python3.11/site-packages pip\r\n",
      "packaging          23.1     /opt/homebrew/lib/python3.11/site-packages pip\r\n",
      "pandas             2.0.1    /opt/homebrew/lib/python3.11/site-packages pip\r\n",
      "parso              0.8.3    /opt/homebrew/lib/python3.11/site-packages pip\r\n",
      "pexpect            4.8.0    /opt/homebrew/lib/python3.11/site-packages pip\r\n",
      "pickleshare        0.7.5    /opt/homebrew/lib/python3.11/site-packages pip\r\n",
      "pip                23.1.2   /opt/homebrew/lib/python3.11/site-packages pip\r\n",
      "platformdirs       3.8.0    /opt/homebrew/lib/python3.11/site-packages pip\r\n",
      "pluggy             1.0.0    /opt/homebrew/lib/python3.11/site-packages pip\r\n",
      "prompt-toolkit     3.0.38   /opt/homebrew/lib/python3.11/site-packages pip\r\n",
      "psutil             5.9.5    /opt/homebrew/lib/python3.11/site-packages pip\r\n",
      "ptyprocess         0.7.0    /opt/homebrew/lib/python3.11/site-packages pip\r\n",
      "pure-eval          0.2.2    /opt/homebrew/lib/python3.11/site-packages pip\r\n",
      "pyflowchart        0.2.3    /opt/homebrew/lib/python3.11/site-packages pip\r\n",
      "Pygments           2.15.1   /opt/homebrew/lib/python3.11/site-packages pip\r\n",
      "PyPDF4             1.27.0   /opt/homebrew/lib/python3.11/site-packages pip\r\n",
      "pytest             7.3.1    /opt/homebrew/lib/python3.11/site-packages pip\r\n",
      "pytest-cov         4.0.0    /opt/homebrew/lib/python3.11/site-packages pip\r\n",
      "python-dateutil    2.8.2    /opt/homebrew/lib/python3.11/site-packages pip\r\n",
      "pytz               2023.3   /opt/homebrew/lib/python3.11/site-packages pip\r\n",
      "pyzmq              25.1.0   /opt/homebrew/lib/python3.11/site-packages pip\r\n",
      "requests           2.31.0   /opt/homebrew/lib/python3.11/site-packages pip\r\n",
      "ruff               0.0.267  /opt/homebrew/lib/python3.11/site-packages pip\r\n",
      "setuptools         67.6.1   /opt/homebrew/lib/python3.11/site-packages pip\r\n",
      "six                1.16.0   /opt/homebrew/lib/python3.11/site-packages\r\n",
      "stack-data         0.6.2    /opt/homebrew/lib/python3.11/site-packages pip\r\n",
      "tornado            6.3.2    /opt/homebrew/lib/python3.11/site-packages pip\r\n",
      "tqdm               4.65.0   /opt/homebrew/lib/python3.11/site-packages pip\r\n",
      "traitlets          5.9.0    /opt/homebrew/lib/python3.11/site-packages pip\r\n",
      "tzdata             2023.3   /opt/homebrew/lib/python3.11/site-packages pip\r\n",
      "urllib3            2.0.3    /opt/homebrew/lib/python3.11/site-packages pip\r\n",
      "wcwidth            0.2.6    /opt/homebrew/lib/python3.11/site-packages pip\r\n",
      "wheel              0.40.0   /opt/homebrew/lib/python3.11/site-packages pip\r\n"
     ]
    }
   ],
   "source": [
    "!pip list -v\n"
   ]
  },
  {
   "cell_type": "code",
   "execution_count": 4,
   "id": "3600c104",
   "metadata": {},
   "outputs": [],
   "source": [
    "import PyPDF4\n"
   ]
  },
  {
   "cell_type": "code",
   "execution_count": 8,
   "id": "a5426809",
   "metadata": {},
   "outputs": [
    {
     "ename": "ImportError",
     "evalue": "cannot import name 'PdfReader' from 'PyPDF4' (/opt/homebrew/lib/python3.11/site-packages/PyPDF4/__init__.py)",
     "output_type": "error",
     "traceback": [
      "\u001b[0;31m---------------------------------------------------------------------------\u001b[0m",
      "\u001b[0;31mImportError\u001b[0m                               Traceback (most recent call last)",
      "Cell \u001b[0;32mIn[8], line 1\u001b[0m\n\u001b[0;32m----> 1\u001b[0m \u001b[38;5;28;01mfrom\u001b[39;00m \u001b[38;5;21;01mPyPDF4\u001b[39;00m \u001b[38;5;28;01mimport\u001b[39;00m PdfReader, PdfWriter\n\u001b[1;32m      2\u001b[0m \u001b[38;5;28;01mfrom\u001b[39;00m \u001b[38;5;21;01mPyPDF4\u001b[39;00m\u001b[38;5;21;01m.\u001b[39;00m\u001b[38;5;21;01mpdf\u001b[39;00m \u001b[38;5;28;01mimport\u001b[39;00m PageObject\n\u001b[1;32m      4\u001b[0m \u001b[38;5;28;01mdef\u001b[39;00m \u001b[38;5;21mconcatenate_rotate_scale_pdfs\u001b[39m(output_path, input_paths):\n",
      "\u001b[0;31mImportError\u001b[0m: cannot import name 'PdfReader' from 'PyPDF4' (/opt/homebrew/lib/python3.11/site-packages/PyPDF4/__init__.py)"
     ]
    }
   ],
   "source": [
    "from PyPDF4 import PdfReader, PdfWriter\n",
    "from PyPDF4.pdf import PageObject\n",
    "\n",
    "def concatenate_rotate_scale_pdfs(output_path, input_paths):\n",
    "    output_pdf = PdfWriter()\n",
    "\n",
    "    for path in input_paths:\n",
    "        input_pdf = PdfReader(path)\n",
    "        num_pages = len(input_pdf.pages)\n",
    "\n",
    "        # Create a new PDF with A5 dimensions\n",
    "        output_pdf.add_blank_page(width=421, height=595)  # Assuming A4 size: 595x842, scaling to A5: 421x595\n",
    "\n",
    "        # Rotate and scale pages\n",
    "        for i in range(num_pages):\n",
    "            page = input_pdf.pages[i]\n",
    "            page.rotate = (page.rotate + 90) % 360  # Rotate the page by 90 degrees clockwise\n",
    "            page.scale_to(width=421, height=595)  # Scale the page to A5 dimensions\n",
    "            output_pdf.pages[i].merge_rotated_scaled_translated_page(page, 0, 0, 1, 0, 0)  # Merge the rotated and scaled page\n",
    "\n",
    "    with open(output_path, \"wb\") as output_file:\n",
    "        output_pdf.write(output_file)\n"
   ]
  },
  {
   "cell_type": "code",
   "execution_count": 9,
   "id": "7bc61e53",
   "metadata": {},
   "outputs": [],
   "source": [
    "pdf_paths = ['bases/MIL AIP filer till EFB/ARLANDA__ESSA/ESSA1-1 IAL FT.pdf', 'bases/MIL AIP filer till EFB/ARLANDA__ESSA/ESSA1-2 LC FT.pdf']\n",
    "output_path = 'output.pdf'\n",
    "\n",
    "concatenate_and_scale_pdfs(output_path, pdf_paths)"
   ]
  },
  {
   "cell_type": "code",
   "execution_count": 7,
   "id": "4839b9ba",
   "metadata": {},
   "outputs": [
    {
     "name": "stdout",
     "output_type": "stream",
     "text": [
      "Untitled.ipynb    main.py           plates.zip\r\n",
      "\u001b[34m__pycache__\u001b[m\u001b[m       output.pdf        setup.py\r\n",
      "\u001b[34mbases\u001b[m\u001b[m             plate_exporter.db \u001b[34mtemp\u001b[m\u001b[m\r\n"
     ]
    }
   ],
   "source": [
    "!ls\n"
   ]
  },
  {
   "cell_type": "code",
   "execution_count": null,
   "id": "b4d2b9b1",
   "metadata": {},
   "outputs": [],
   "source": []
  }
 ],
 "metadata": {
  "kernelspec": {
   "display_name": "Python 3 (ipykernel)",
   "language": "python",
   "name": "python3"
  },
  "language_info": {
   "codemirror_mode": {
    "name": "ipython",
    "version": 3
   },
   "file_extension": ".py",
   "mimetype": "text/x-python",
   "name": "python",
   "nbconvert_exporter": "python",
   "pygments_lexer": "ipython3",
   "version": "3.11.3"
  }
 },
 "nbformat": 4,
 "nbformat_minor": 5
}
